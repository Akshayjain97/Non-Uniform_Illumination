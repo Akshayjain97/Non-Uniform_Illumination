{
  "cells": [
    {
      "cell_type": "code",
      "execution_count": null,
      "metadata": {
        "id": "V_NIZGqqoAUw"
      },
      "outputs": [],
      "source": [
        "!wget http://cs231n.stanford.edu/tiny-imagenet-200.zip\n",
        "! unzip \"/home/cvblgita/akshay/AdaNorm-main/TinyImageNet/tiny-imagenet-200.zip\"\n",
        "!rm -r /home/cvblgita/akshay/AdaNorm-main/TinyImageNet/tiny-imagenet-200/test\n",
        "!python3 /home/cvblgita/akshay/AdaNorm-main/TinyImageNet/val_format.py\n",
        "!python /home/cvblgita/akshay/AdaNorm-main/TinyImageNet/resize.py\n",
        "!rm -r /home/cvblgita/akshay/AdaNorm-main/TinyImageNet/tiny-imagenet-200/*/*/images"
      ]
    },
    {
      "cell_type": "code",
      "execution_count": null,
      "metadata": {
        "id": "BNWhz_rgoCUB"
      },
      "outputs": [],
      "source": [
        "!python3 /home/cvblgita/akshay/AdaNorm-main/TinyImageNet/main_TinyImageNet.py"
      ]
    },
    {
      "cell_type": "code",
      "execution_count": null,
      "metadata": {
        "id": "CXiCeHT8pIpB",
        "outputId": "003d3a9c-0103-4b47-8319-eba3a51be2c2"
      },
      "outputs": [
        {
          "name": "stdout",
          "output_type": "stream",
          "text": [
            "==> Preparing data..\n",
            "==> Building model..\n",
            " [================================================================>]  Step: 5s386ms | Tot: 5s386ms | Loss: 4.094 | Acc: 38.640% (1932/500 79/79 \n",
            "Best Accuracy:  38.64\n",
            "==> Preparing data..\n",
            "==> Building model..\n",
            " [================================================================>]  Step: 5s621ms | Tot: 5s621ms | Loss: 4.006 | Acc: 40.520% (2026/500 79/79 \n",
            "Best Accuracy:  40.52\n",
            "==> Preparing data..\n",
            "==> Building model..\n",
            " [================================================================>]  Step: 5s668ms | Tot: 5s668ms | Loss: 3.932 | Acc: 42.560% (2128/500 79/79 \n",
            "Best Accuracy:  42.56\n",
            "==> Preparing data..\n",
            "==> Building model..\n",
            " [================================================================>]  Step: 5s901ms | Tot: 5s901ms | Loss: 3.866 | Acc: 43.680% (2184/500 79/79 \n",
            "Best Accuracy:  43.68\n",
            "==> Preparing data..\n",
            "==> Building model..\n",
            " [================================================================>]  Step: 5s441ms | Tot: 5s441ms | Loss: 3.811 | Acc: 44.720% (2236/500 79/79 \n",
            "Best Accuracy:  44.72\n",
            "==> Preparing data..\n",
            "==> Building model..\n",
            " [================================================================>]  Step: 5s558ms | Tot: 5s558ms | Loss: 3.756 | Acc: 45.920% (2296/500 79/79 \n",
            "Best Accuracy:  45.92\n",
            "==> Preparing data..\n",
            "==> Building model..\n",
            " [================================================================>]  Step: 5s566ms | Tot: 5s566ms | Loss: 3.717 | Acc: 46.680% (2334/500 79/79 \n",
            "Best Accuracy:  46.68\n",
            "==> Preparing data..\n",
            "==> Building model..\n",
            " [================================================================>]  Step: 5s870ms | Tot: 5s870ms | Loss: 3.689 | Acc: 47.780% (2389/500 79/79 \n",
            "Best Accuracy:  47.78\n",
            "==> Preparing data..\n",
            "==> Building model..\n",
            " [================================================================>]  Step: 5s990ms | Tot: 5s990ms | Loss: 3.681 | Acc: 48.100% (2405/500 79/79 \n",
            "Best Accuracy:  48.1\n",
            "==> Preparing data..\n",
            "==> Building model..\n",
            " [================================================================>]  Step: 5s485ms | Tot: 5s485ms | Loss: 3.667 | Acc: 48.620% (2431/500 79/79 \n",
            "Best Accuracy:  48.62\n",
            "==> Preparing data..\n",
            "==> Building model..\n",
            " [================================================================>]  Step: 5s640ms | Tot: 5s640ms | Loss: 3.640 | Acc: 49.440% (2472/500 79/79 \n",
            "Best Accuracy:  49.44\n",
            "==> Preparing data..\n",
            "==> Building model..\n",
            " [================================================================>]  Step: 5s632ms | Tot: 5s632ms | Loss: 3.586 | Acc: 50.500% (2525/500 79/79 \n",
            "Best Accuracy:  50.5\n",
            "==> Preparing data..\n",
            "==> Building model..\n",
            " [================================================================>]  Step: 5s485ms | Tot: 5s485ms | Loss: 3.650 | Acc: 49.280% (2464/500 79/79 \n",
            "Best Accuracy:  49.28\n",
            "==> Preparing data..\n",
            "==> Building model..\n",
            " [================================================================>]  Step: 5s494ms | Tot: 5s494ms | Loss: 3.699 | Acc: 48.600% (2430/500 79/79 \n",
            "Best Accuracy:  48.6\n",
            "==> Preparing data..\n",
            "==> Building model..\n",
            " [================================================================>]  Step: 5s696ms | Tot: 5s696ms | Loss: 3.716 | Acc: 48.380% (2419/500 79/79 \n",
            "Best Accuracy:  48.38\n",
            "==> Preparing data..\n",
            "==> Building model..\n",
            " [================================================================>]  Step: 5s401ms | Tot: 5s401ms | Loss: 3.727 | Acc: 47.720% (2386/500 79/79 \n",
            "Best Accuracy:  47.72\n",
            "==> Preparing data..\n",
            "==> Building model..\n",
            " [================================================================>]  Step: 5s748ms | Tot: 5s748ms | Loss: 3.745 | Acc: 47.460% (2373/500 79/79 \n",
            "Best Accuracy:  47.46\n",
            "==> Preparing data..\n",
            "==> Building model..\n",
            " [================================================================>]  Step: 5s769ms | Tot: 5s769ms | Loss: 3.775 | Acc: 46.760% (2338/500 79/79 \n",
            "Best Accuracy:  46.76\n",
            "==> Preparing data..\n",
            "==> Building model..\n",
            " [================================================================>]  Step: 5s726ms | Tot: 5s726ms | Loss: 3.836 | Acc: 45.560% (2278/500 79/79 \n",
            "Best Accuracy:  45.56\n",
            "==> Preparing data..\n",
            "==> Building model..\n",
            " [================================================================>]  Step: 5s520ms | Tot: 5s520ms | Loss: 3.929 | Acc: 44.460% (2223/500 79/79 \n",
            "Best Accuracy:  44.46\n",
            "==> Preparing data..\n",
            "==> Building model..\n",
            " [================================================================>]  Step: 5s500ms | Tot: 5s500ms | Loss: 4.038 | Acc: 42.700% (2135/500 79/79 \n",
            "Best Accuracy:  42.7\n",
            "==> Preparing data..\n",
            "==> Building model..\n",
            " [================================================================>]  Step: 5s800ms | Tot: 5s800ms | Loss: 4.162 | Acc: 40.860% (2043/500 79/79 \n",
            "Best Accuracy:  40.86\n",
            "==> Preparing data..\n",
            "==> Building model..\n",
            " [================================================================>]  Step: 5s781ms | Tot: 5s781ms | Loss: 4.302 | Acc: 38.640% (1932/500 79/79 \n",
            "Best Accuracy:  38.64\n"
          ]
        }
      ],
      "source": [
        "import numpy as np\n",
        "for i in np.array([-2.2,-2.0,-1.8,-1.6,-1.4,-1.2,-1.0,-0.8,-0.6,-0.4,-0.2,0.0,0.2,0.4,0.6,0.8,1.0,1.2,1.4,1.6,1.8,2.0,2.2]):\n",
        "    !python3 /home/cvblgita/akshay/AdaNorm-main/TinyImageNet/load.py {i}"
      ]
    },
    {
      "cell_type": "code",
      "execution_count": null,
      "metadata": {
        "id": "P_F3S8AscEej"
      },
      "outputs": [],
      "source": []
    }
  ],
  "metadata": {
    "accelerator": "GPU",
    "colab": {
      "provenance": []
    },
    "gpuClass": "standard",
    "kernelspec": {
      "display_name": "Python 3 (ipykernel)",
      "language": "python",
      "name": "python3"
    },
    "language_info": {
      "codemirror_mode": {
        "name": "ipython",
        "version": 3
      },
      "file_extension": ".py",
      "mimetype": "text/x-python",
      "name": "python",
      "nbconvert_exporter": "python",
      "pygments_lexer": "ipython3",
      "version": "3.9.16"
    }
  },
  "nbformat": 4,
  "nbformat_minor": 0
}