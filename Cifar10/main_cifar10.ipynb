{
  "cells": [
    {
      "cell_type": "code",
      "execution_count": null,
      "metadata": {
        "id": "MY9oaZ5cQt9D",
        "scrolled": true
      },
      "outputs": [],
      "source": [
        "!python3 /home/cvblgita/akshay/AdaNorm-main/CIFAR10/main_cifar10.py\n",
        "#!python3 main_cifar10.py --resume --lr=0.001\n",
        "#!python3 main_cifar10.py --resume --lr=0.0001"
      ]
    },
    {
      "cell_type": "code",
      "execution_count": null,
      "metadata": {
        "id": "z0keEtW4Y39f",
        "outputId": "750dfd7c-4e25-4f09-db39-fe74eb9abc34"
      },
      "outputs": [
        {
          "name": "stdout",
          "output_type": "stream",
          "text": [
            "Requirement already satisfied: torch in /home/cvblgita/anaconda3/lib/python3.9/site-packages (2.0.1)\n",
            "Requirement already satisfied: torchvision in /home/cvblgita/anaconda3/lib/python3.9/site-packages (0.15.2)\n",
            "Requirement already satisfied: filelock in /home/cvblgita/anaconda3/lib/python3.9/site-packages (from torch) (3.9.0)\n",
            "Requirement already satisfied: typing-extensions in /home/cvblgita/anaconda3/lib/python3.9/site-packages (from torch) (4.6.3)\n",
            "Requirement already satisfied: sympy in /home/cvblgita/anaconda3/lib/python3.9/site-packages (from torch) (1.11.1)\n",
            "Requirement already satisfied: networkx in /home/cvblgita/anaconda3/lib/python3.9/site-packages (from torch) (2.8.4)\n",
            "Requirement already satisfied: jinja2 in /home/cvblgita/anaconda3/lib/python3.9/site-packages (from torch) (3.1.2)\n",
            "Requirement already satisfied: nvidia-cuda-nvrtc-cu11==11.7.99 in /home/cvblgita/anaconda3/lib/python3.9/site-packages (from torch) (11.7.99)\n",
            "Requirement already satisfied: nvidia-cuda-runtime-cu11==11.7.99 in /home/cvblgita/anaconda3/lib/python3.9/site-packages (from torch) (11.7.99)\n",
            "Requirement already satisfied: nvidia-cuda-cupti-cu11==11.7.101 in /home/cvblgita/anaconda3/lib/python3.9/site-packages (from torch) (11.7.101)\n",
            "Requirement already satisfied: nvidia-cudnn-cu11==8.5.0.96 in /home/cvblgita/anaconda3/lib/python3.9/site-packages (from torch) (8.5.0.96)\n",
            "Requirement already satisfied: nvidia-cublas-cu11==11.10.3.66 in /home/cvblgita/anaconda3/lib/python3.9/site-packages (from torch) (11.10.3.66)\n",
            "Requirement already satisfied: nvidia-cufft-cu11==10.9.0.58 in /home/cvblgita/anaconda3/lib/python3.9/site-packages (from torch) (10.9.0.58)\n",
            "Requirement already satisfied: nvidia-curand-cu11==10.2.10.91 in /home/cvblgita/anaconda3/lib/python3.9/site-packages (from torch) (10.2.10.91)\n",
            "Requirement already satisfied: nvidia-cusolver-cu11==11.4.0.1 in /home/cvblgita/anaconda3/lib/python3.9/site-packages (from torch) (11.4.0.1)\n",
            "Requirement already satisfied: nvidia-cusparse-cu11==11.7.4.91 in /home/cvblgita/anaconda3/lib/python3.9/site-packages (from torch) (11.7.4.91)\n",
            "Requirement already satisfied: nvidia-nccl-cu11==2.14.3 in /home/cvblgita/anaconda3/lib/python3.9/site-packages (from torch) (2.14.3)\n",
            "Requirement already satisfied: nvidia-nvtx-cu11==11.7.91 in /home/cvblgita/anaconda3/lib/python3.9/site-packages (from torch) (11.7.91)\n",
            "Requirement already satisfied: triton==2.0.0 in /home/cvblgita/anaconda3/lib/python3.9/site-packages (from torch) (2.0.0)\n",
            "Requirement already satisfied: setuptools in /home/cvblgita/anaconda3/lib/python3.9/site-packages (from nvidia-cublas-cu11==11.10.3.66->torch) (67.8.0)\n",
            "Requirement already satisfied: wheel in /home/cvblgita/anaconda3/lib/python3.9/site-packages (from nvidia-cublas-cu11==11.10.3.66->torch) (0.38.4)\n",
            "Requirement already satisfied: cmake in /home/cvblgita/anaconda3/lib/python3.9/site-packages (from triton==2.0.0->torch) (3.26.4)\n",
            "Requirement already satisfied: lit in /home/cvblgita/anaconda3/lib/python3.9/site-packages (from triton==2.0.0->torch) (16.0.6)\n",
            "Requirement already satisfied: numpy in /home/cvblgita/anaconda3/lib/python3.9/site-packages (from torchvision) (1.24.3)\n",
            "Requirement already satisfied: requests in /home/cvblgita/anaconda3/lib/python3.9/site-packages (from torchvision) (2.29.0)\n",
            "Requirement already satisfied: pillow!=8.3.*,>=5.3.0 in /home/cvblgita/anaconda3/lib/python3.9/site-packages (from torchvision) (9.4.0)\n",
            "Requirement already satisfied: MarkupSafe>=2.0 in /home/cvblgita/anaconda3/lib/python3.9/site-packages (from jinja2->torch) (2.1.1)\n",
            "Requirement already satisfied: charset-normalizer<4,>=2 in /home/cvblgita/anaconda3/lib/python3.9/site-packages (from requests->torchvision) (2.0.4)\n",
            "Requirement already satisfied: idna<4,>=2.5 in /home/cvblgita/anaconda3/lib/python3.9/site-packages (from requests->torchvision) (3.4)\n",
            "Requirement already satisfied: urllib3<1.27,>=1.21.1 in /home/cvblgita/anaconda3/lib/python3.9/site-packages (from requests->torchvision) (1.26.16)\n",
            "Requirement already satisfied: certifi>=2017.4.17 in /home/cvblgita/anaconda3/lib/python3.9/site-packages (from requests->torchvision) (2023.5.7)\n",
            "Requirement already satisfied: mpmath>=0.19 in /home/cvblgita/anaconda3/lib/python3.9/site-packages (from sympy->torch) (1.2.1)\n"
          ]
        }
      ],
      "source": [
        "!pip install --upgrade torch torchvision\n"
      ]
    },
    {
      "cell_type": "code",
      "execution_count": null,
      "metadata": {
        "id": "gozHI7tFY39h"
      },
      "outputs": [],
      "source": [
        "import numpy as np\n",
        "for i in np.array([-2.2,-2.0,-1.8,-1.6,-1.4,-1.2,-1.0,-0.8,-0.6,-0.4,-0.2,0.0,0.2,0.4,0.6,0.8,1.0,1.2,1.4,1.6,1.8,2.0,2.2]):\n",
        "    !python3 /home/cvblgita/akshay/AdaNorm-main/Caltech256/load.py {i}"
      ]
    }
  ],
  "metadata": {
    "accelerator": "GPU",
    "colab": {
      "provenance": []
    },
    "kernelspec": {
      "display_name": "Python 3 (ipykernel)",
      "language": "python",
      "name": "python3"
    },
    "language_info": {
      "codemirror_mode": {
        "name": "ipython",
        "version": 3
      },
      "file_extension": ".py",
      "mimetype": "text/x-python",
      "name": "python",
      "nbconvert_exporter": "python",
      "pygments_lexer": "ipython3",
      "version": "3.9.16"
    }
  },
  "nbformat": 4,
  "nbformat_minor": 0
}